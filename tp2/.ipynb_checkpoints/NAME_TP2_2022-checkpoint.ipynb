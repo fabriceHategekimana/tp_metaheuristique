{
 "cells": [
  {
   "cell_type": "markdown",
   "metadata": {},
   "source": [
    "## TP2 - Name"
   ]
  },
  {
   "cell_type": "code",
   "execution_count": null,
   "metadata": {},
   "outputs": [],
   "source": [
    "## Imports"
   ]
  },
  {
   "cell_type": "markdown",
   "metadata": {},
   "source": [
    "### PART 1 - Monday, October 3, 2022"
   ]
  },
  {
   "cell_type": "code",
   "execution_count": null,
   "metadata": {},
   "outputs": [],
   "source": [
    "def read_input(filename):\n",
    "    # TODO\n",
    "    '''\n",
    "    read .dat file and return n, D, and W\n",
    "\n",
    "    Parameters:\n",
    "    -----------\n",
    "    filename\n",
    "\n",
    "    Returns:\n",
    "    --------\n",
    "    n: number of facilities\n",
    "    D: Distance Matrix\n",
    "    W: Weight Matrix\n",
    "    '''"
   ]
  },
  {
   "cell_type": "code",
   "execution_count": null,
   "metadata": {},
   "outputs": [],
   "source": [
    "# get n (number of locations, facilities), D (Distance Matrix), and W (Weights/Flows Matrix)\n",
    "n, D, W = read_input(filename='1.dat')"
   ]
  },
  {
   "cell_type": "code",
   "execution_count": null,
   "metadata": {},
   "outputs": [],
   "source": [
    "def compute_I(combination):\n",
    "    # TODO\n",
    "    '''\n",
    "    compute fitness of a combination\n",
    "\n",
    "    Parameters:\n",
    "    -----------\n",
    "    combination : list of facilities' assignment\n",
    "\n",
    "    Returns:\n",
    "    --------\n",
    "    I: fitness score\n",
    "    '''\n",
    "\n",
    "def compute_delta(combination, i, j):\n",
    "    # TODO\n",
    "    '''\n",
    "    compute delta fitness after swapping facilities in locations i & j (ie. delta fitness for one neighbor)\n",
    "\n",
    "    Parameters:\n",
    "    -----------\n",
    "    combination : list of original facilities' assignment\n",
    "    i, j : locations of facilities being swapped\n",
    "\n",
    "    Returns:\n",
    "    --------\n",
    "    delta_I: delta fitness\n",
    "    '''\n",
    "\n",
    "def swap_two(combination, i, j):\n",
    "    # TODO\n",
    "    '''\n",
    "    returns a new permutation with facilities in i & j swapped\n",
    "\n",
    "    Parameters:\n",
    "    -----------\n",
    "    combination : list of original facilities' assignment\n",
    "    i, j : locations of facilities being swapped\n",
    "\n",
    "    Returns:\n",
    "    --------\n",
    "    neighbor : new permutation\n",
    "    '''\n",
    "\n",
    "def is_tabu(tabu_list, combination, i, j, itr):\n",
    "    # TODO\n",
    "    ## itr is optional, depends on how you implement the tabu matrix\n",
    "    '''\n",
    "    returns a boolean to check if swap is tabu\n",
    "\n",
    "    Parameters:\n",
    "    -----------\n",
    "    tabu_list : tabu matrix with locationsxfacilities\n",
    "    combination : list of original facilities' assignment (before swap)\n",
    "    i, j : locations of facilities being swapped\n",
    "    itr : current iteration\n",
    "\n",
    "    Returns:\n",
    "    --------\n",
    "    True : if swap is Tabu\n",
    "    False : if swap is not Tabu\n",
    "    '''\n",
    "    \n",
    "def update_tabu(tabu_list, combination, i, j, itr, tenure):\n",
    "    # TODO\n",
    "    ## itr is optional, depends on how you implement the tabu matrix\n",
    "    '''\n",
    "    updates the tabu_list (matrix)\n",
    "\n",
    "    Parameters:\n",
    "    -----------\n",
    "    tabu_list : tabu matrix with locationsxfacilities\n",
    "    combination : list of original facilities' assignment(before swap)\n",
    "    i, j : locations of facilities being swapped\n",
    "    itr : current iteration\n",
    "    tenure : tabu_list short term memory (l)\n",
    "    '''\n",
    "\n",
    "def filter_diversification(div_matrix, combination):\n",
    "    # TODO\n",
    "    '''\n",
    "    returns a list of swaps that have not been set for the last n^2 iterations\n",
    "\n",
    "    Parameters:\n",
    "    -----------\n",
    "    div_matrix : diversification matrix with locationsxfacilities\n",
    "    combination : list of original facilities' assignment (before swap)\n",
    "\n",
    "    Returns:\n",
    "    --------\n",
    "    list of swaps that have not been set for the last n^2 iterations\n",
    "    empty list if no such swap exists\n",
    "    '''\n",
    "\n",
    "def update_diversification(div_matrix, combination, i, j):\n",
    "    # TODO\n",
    "    '''\n",
    "    updates the diversification matrix after swapping facilities in locations i & j\n",
    "\n",
    "    Parameters:\n",
    "    -----------\n",
    "    div_matrix : diversification matrix with locationsxfacilities\n",
    "    combination : list of original facilities' assignment(before swap)\n",
    "    i, j : locations of facilities being swapped\n",
    "    '''"
   ]
  },
  {
   "cell_type": "code",
   "execution_count": null,
   "metadata": {},
   "outputs": [],
   "source": [
    "# TODO\n",
    "'''Test the above functions, and show your results for eg. :\n",
    "1. print outputs n, D, and W\n",
    "2. show an example of a two-swap (show before & after lists)\n",
    "3. initialize an empty tabu-list, perform a swap, update the tabu-list (matrix), and print it\n",
    "4. test is_tabu fuction\n",
    "5. initialize a diversification matrix with few zero items, and check filter_diversification function\n",
    "6. test update_diversification matrix with a swap (print the matrix before and after the swap)'''"
   ]
  },
  {
   "cell_type": "markdown",
   "metadata": {},
   "source": [
    "### PART 2 - Monday, October 10, 2022"
   ]
  },
  {
   "cell_type": "code",
   "execution_count": null,
   "metadata": {},
   "outputs": [],
   "source": [
    "def next_swap(tabu_list, combination):\n",
    "    # TODO\n",
    "    '''\n",
    "    returns next best non-tabu swap\n",
    "\n",
    "    Parameters:\n",
    "    -----------\n",
    "    tabu_list : tabu matrix with locationsxfacilities\n",
    "    combination : list of original facilities' assignment\n",
    "\n",
    "    Returns:\n",
    "    --------\n",
    "    (i, j) : new best non-tabu swap\n",
    "    delta_fitness : delta_fitness of chosen best non-tabu swap (difference in fitness between original and new permutation)\n",
    "    '''"
   ]
  },
  {
   "cell_type": "code",
   "execution_count": null,
   "metadata": {
    "scrolled": false
   },
   "outputs": [],
   "source": [
    "def tabu_QAP(tenure, tmax, with_div=False):\n",
    "    # TODO (refer to TabuSearch flow diagram)\n",
    "    '''\n",
    "    perform Tabu Search with/out diversification\n",
    "\n",
    "    Parameters:\n",
    "    -----------\n",
    "    tenure : short-term memory (l)\n",
    "    tmax : number of iterations\n",
    "    with_div : True if with diversification, False if without (False by default here)\n",
    "\n",
    "    Returns:\n",
    "    --------\n",
    "    global_I : global best seen fitness\n",
    "    global_P : global best seen permutation\n",
    "    '''"
   ]
  },
  {
   "cell_type": "code",
   "execution_count": null,
   "metadata": {},
   "outputs": [],
   "source": [
    "# TODO\n",
    "''' Run your algorithm 10 times on the example provided with this exercise\n",
    "(the ”1.dat” file) ; make sure that you start each iteration with a different\n",
    "initial state. Vary the l parameter (tabu tenure) over {1, 0.5n, 0.9n} and\n",
    "for each value of l report the best, the mean and the standard deviation of\n",
    "the obtained values of I. For this problem check whether the diversification\n",
    "mechanism helps '''\n",
    "\n",
    "''' We expect to see graphs/tables showing the statistics for each method \n",
    "(with/out diversification), varying tenure, and tmax(optional)\n",
    "'''\n",
    "\n",
    "## save fitness results to get statistics (minimum, mean, and standard deviation) for all 10 runs, for each method\n",
    "tabu_results = []\n",
    "tabu_div_results = []\n",
    "\n",
    "for _ in range(10):\n",
    "    global_I, global_P = tabu_QAP(tenure, tmax)\n",
    "    tabu_results.append(global_I)\n",
    "    global_I_div, global_P_div = tabu_QAP(tenure, tmax, with_div=True)\n",
    "    tabu_div_results.append(global_I_div)"
   ]
  },
  {
   "cell_type": "code",
   "execution_count": null,
   "metadata": {},
   "outputs": [],
   "source": [
    "# TODO\n",
    "## OPTIONAL !\n",
    "'''Randomly generate 4 QAPs problems (i.e. symmetrical distance \n",
    "and weight matrices) of size n = {40, 50, 80, 100}. \n",
    "Fix l = 0.5n and run your algorithm 10 times on these problems. \n",
    "Report mean and standard deviation of the obtained values of I. \n",
    "Here it is up to you to decide whether to use the diversification mechanism'''"
   ]
  },
  {
   "cell_type": "markdown",
   "metadata": {},
   "source": [
    "Answer the following Questions: \n",
    "\n",
    "1.  Q: In this specific case, what is the neighborhood of an element of the research space?\n",
    "\n",
    "    A: \n",
    "\n",
    "\n",
    "2.  Q: In terms of $n$ (number of locations/facilities), what is the size of the neighborhood? (i.e., how many neighbors does each         permuation have?)\n",
    "\n",
    "    A:\n"
   ]
  },
  {
   "cell_type": "markdown",
   "metadata": {},
   "source": []
  }
 ],
 "metadata": {
  "kernelspec": {
   "display_name": "Python 3 (ipykernel)",
   "language": "python",
   "name": "python3"
  },
  "language_info": {
   "codemirror_mode": {
    "name": "ipython",
    "version": 3
   },
   "file_extension": ".py",
   "mimetype": "text/x-python",
   "name": "python",
   "nbconvert_exporter": "python",
   "pygments_lexer": "ipython3",
   "version": "3.8.10"
  },
  "vscode": {
   "interpreter": {
    "hash": "31f2aee4e71d21fbe5cf8b01ff0e069b9275f58929596ceb00d14d90e3e16cd6"
   }
  }
 },
 "nbformat": 4,
 "nbformat_minor": 4
}
