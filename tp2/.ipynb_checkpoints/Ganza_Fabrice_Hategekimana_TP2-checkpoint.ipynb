{
 "cells": [
  {
   "cell_type": "markdown",
   "metadata": {},
   "source": [
    "# TP2- Ganza Fabrice Hategekimana\n",
    "\n",
    "The main function of the tp are in the module.py file.\n",
    "\n",
    "## part1"
   ]
  },
  {
   "cell_type": "code",
   "execution_count": 1,
   "metadata": {},
   "outputs": [],
   "source": [
    "from part1 import demo1, demo2, demo3, demo4, demo5, demo6"
   ]
  },
  {
   "cell_type": "code",
   "execution_count": 2,
   "metadata": {},
   "outputs": [
    {
     "name": "stdout",
     "output_type": "stream",
     "text": [
      "n: 12\n",
      "D: [[0 1 2 3 1 2 3 4 2 3 4 5]\n",
      " [1 0 1 2 2 1 2 3 3 2 3 4]\n",
      " [2 1 0 1 3 2 1 2 4 3 2 3]\n",
      " [3 2 1 0 4 3 2 1 5 4 3 2]\n",
      " [1 2 3 4 0 1 2 3 1 2 3 4]\n",
      " [2 1 2 3 1 0 1 2 2 1 2 3]\n",
      " [3 2 1 2 2 1 0 1 3 2 1 2]\n",
      " [4 3 2 1 3 2 1 0 4 3 2 1]\n",
      " [2 3 4 5 1 2 3 4 0 1 2 3]\n",
      " [3 2 3 4 2 1 2 3 1 0 1 2]\n",
      " [4 3 2 3 3 2 1 2 2 1 0 1]\n",
      " [5 4 3 2 4 3 2 1 3 2 1 0]]\n",
      "W: [[ 0  5  2  4  1  0  0  6  2  1  1  1]\n",
      " [ 5  0  3  0  2  2  2  0  4  5  0  0]\n",
      " [ 2  3  0  0  0  0  0  5  5  2  2  2]\n",
      " [ 4  0  0  0  5  2  2 10  0  0  5  5]\n",
      " [ 1  2  0  5  0 10  0  0  0  5  1  1]\n",
      " [ 0  2  0  2 10  0  5  1  1  5  4  0]\n",
      " [ 0  2  0  2  0  5  0 10  5  2  3  3]\n",
      " [ 6  0  5 10  0  1 10  0  0  0  5  0]\n",
      " [ 2  4  5  0  0  1  5  0  0  0 10 10]\n",
      " [ 1  5  2  0  5  5  2  0  0  0  5  0]\n",
      " [ 1  0  2  5  1  4  3  5 10  5  0  2]\n",
      " [ 1  0  2  5  1  0  3  0 10  0  2  0]]\n"
     ]
    }
   ],
   "source": [
    "demo1()"
   ]
  },
  {
   "cell_type": "code",
   "execution_count": 3,
   "metadata": {},
   "outputs": [
    {
     "name": "stdout",
     "output_type": "stream",
     "text": [
      "combination: [0, 1, 2, 3]\n",
      "combination2: [1, 0, 2, 3]\n"
     ]
    }
   ],
   "source": [
    "demo2()"
   ]
  },
  {
   "cell_type": "code",
   "execution_count": 4,
   "metadata": {},
   "outputs": [
    {
     "name": "stdout",
     "output_type": "stream",
     "text": [
      "tabu_list:\n",
      " [[0. 3. 0. 0.]\n",
      " [0. 0. 0. 0.]\n",
      " [0. 0. 0. 0.]\n",
      " [0. 0. 0. 0.]]\n"
     ]
    },
    {
     "data": {
      "text/plain": [
       "array([[0., 3., 0., 0.],\n",
       "       [0., 0., 0., 0.],\n",
       "       [0., 0., 0., 0.],\n",
       "       [0., 0., 0., 0.]])"
      ]
     },
     "execution_count": 4,
     "metadata": {},
     "output_type": "execute_result"
    }
   ],
   "source": [
    "demo3()"
   ]
  },
  {
   "cell_type": "code",
   "execution_count": 5,
   "metadata": {},
   "outputs": [
    {
     "name": "stdout",
     "output_type": "stream",
     "text": [
      "tabu_list:\n",
      " [[0. 3. 0. 0.]\n",
      " [0. 0. 0. 0.]\n",
      " [0. 0. 0. 0.]\n",
      " [0. 0. 0. 0.]]\n",
      "res: False\n"
     ]
    }
   ],
   "source": [
    "demo4()"
   ]
  },
  {
   "cell_type": "code",
   "execution_count": 6,
   "metadata": {},
   "outputs": [
    {
     "name": "stdout",
     "output_type": "stream",
     "text": [
      "div_matrix:\n",
      " [[21 10 18  9]\n",
      " [ 2 11 14 21]\n",
      " [ 1 13 13 11]\n",
      " [ 8 20  4 10]]\n",
      "relations: [(0, 0), (0, 2), (1, 3), (3, 1)]\n"
     ]
    }
   ],
   "source": [
    "demo5()"
   ]
  },
  {
   "cell_type": "code",
   "execution_count": 7,
   "metadata": {},
   "outputs": [
    {
     "name": "stdout",
     "output_type": "stream",
     "text": [
      "div_matrix: [[1. 0. 1. 1.]\n",
      " [1. 1. 1. 1.]\n",
      " [1. 1. 1. 1.]\n",
      " [1. 1. 1. 1.]]\n"
     ]
    }
   ],
   "source": [
    "demo6()"
   ]
  },
  {
   "cell_type": "markdown",
   "metadata": {},
   "source": [
    "## part2"
   ]
  },
  {
   "cell_type": "code",
   "execution_count": 1,
   "metadata": {},
   "outputs": [],
   "source": [
    "from module import *"
   ]
  },
  {
   "cell_type": "code",
   "execution_count": 2,
   "metadata": {},
   "outputs": [],
   "source": [
    "''' Run your algorithm 10 times on the example provided with this exercise\n",
    "(the ”1.dat” file) ; make sure that you start each iteration with a different\n",
    "initial state. Vary the l parameter (tabu tenure) over {1, 0.5n, 0.9n} and\n",
    "for each value of l report the best, the mean and the standard deviation of\n",
    "the obtained values of I. For this problem check whether the diversification\n",
    "mechanism helps '''\n",
    "\n",
    "''' We expect to see graphs/tables showing the statistics for each method \n",
    "(with/out diversification), varying tenure, and tmax(optional)\n",
    "'''\n",
    "\n",
    "## save fitness results to get statistics (minimum, mean, and standard deviation) for all 10 runs, for each method\n",
    "\n",
    "def get_datas(tenure, tmax):\n",
    "\ttabu_results = []\n",
    "\ttabu_div_results = []\n",
    "\tfor _ in range(10):\n",
    "\t\tglobal_I, global_P = tabu_QAP(tenure, tmax)\n",
    "\t\ttabu_results.append(global_I)\n",
    "\t\tglobal_I_div, global_P_div = tabu_QAP(tenure, tmax, with_div=True)\n",
    "\t\ttabu_div_results.append(global_I_div)\n",
    "\treturn tabu_results, tabu_div_results"
   ]
  },
  {
   "cell_type": "code",
   "execution_count": 3,
   "metadata": {},
   "outputs": [],
   "source": [
    "tenure = 1\n",
    "tmax = 100\n",
    "tabu_results1, tabu_div_results1 = get_datas(tenure, tmax)"
   ]
  },
  {
   "cell_type": "code",
   "execution_count": 4,
   "metadata": {},
   "outputs": [
    {
     "data": {
      "text/plain": [
       "[19.0, 23.0, 23.0, 23.0, 23.0, 19.0, 19.0, 19.0, 19.0, 19.0]"
      ]
     },
     "execution_count": 4,
     "metadata": {},
     "output_type": "execute_result"
    }
   ],
   "source": [
    "tabu_results1"
   ]
  },
  {
   "cell_type": "code",
   "execution_count": 5,
   "metadata": {},
   "outputs": [
    {
     "data": {
      "text/plain": [
       "[23.0, 23.0, 23.0, 23.0, 23.0, 23.0, 19.0, 19.0, 19.0, 23.0]"
      ]
     },
     "execution_count": 5,
     "metadata": {},
     "output_type": "execute_result"
    }
   ],
   "source": [
    "tabu_div_results1"
   ]
  },
  {
   "cell_type": "markdown",
   "metadata": {},
   "source": [
    "From what I see, the results aren't better with the diversification, but normally it would be the case.\n",
    "Post scriptum: I didn't implemented the diversification version in the QAP, thats why the results are similars."
   ]
  },
  {
   "cell_type": "code",
   "execution_count": 10,
   "metadata": {},
   "outputs": [],
   "source": [
    "tenure = 4*0.5\n",
    "tmax = 100\n",
    "tabu_results2, tabu_div_results2 = get_datas(tenure, tmax)"
   ]
  },
  {
   "cell_type": "code",
   "execution_count": 11,
   "metadata": {},
   "outputs": [
    {
     "data": {
      "text/plain": [
       "[23.0, 23.0, 19.0, 23.0, 19.0, 19.0, 23.0, 23.0, 23.0, 19.0]"
      ]
     },
     "execution_count": 11,
     "metadata": {},
     "output_type": "execute_result"
    }
   ],
   "source": [
    "tabu_results2"
   ]
  },
  {
   "cell_type": "code",
   "execution_count": 12,
   "metadata": {},
   "outputs": [
    {
     "data": {
      "text/plain": [
       "[19.0, 23.0, 19.0, 19.0, 19.0, 23.0, 23.0, 19.0, 19.0, 23.0]"
      ]
     },
     "execution_count": 12,
     "metadata": {},
     "output_type": "execute_result"
    }
   ],
   "source": [
    "tabu_div_results2"
   ]
  },
  {
   "cell_type": "code",
   "execution_count": 16,
   "metadata": {},
   "outputs": [],
   "source": [
    "tenure = 4*0.9\n",
    "tmax = 100\n",
    "tabu_results3, tabu_div_results3 = get_datas(tenure, tmax)"
   ]
  },
  {
   "cell_type": "code",
   "execution_count": 17,
   "metadata": {},
   "outputs": [
    {
     "data": {
      "text/plain": [
       "[19.0, 19.0, 23.0, 23.0, 19.0, 19.0, 23.0, 19.0, 23.0, 19.0]"
      ]
     },
     "execution_count": 17,
     "metadata": {},
     "output_type": "execute_result"
    }
   ],
   "source": [
    "tabu_results3"
   ]
  },
  {
   "cell_type": "code",
   "execution_count": 18,
   "metadata": {},
   "outputs": [
    {
     "data": {
      "text/plain": [
       "[23.0, 23.0, 23.0, 23.0, 23.0, 19.0, 19.0, 23.0, 23.0, 23.0]"
      ]
     },
     "execution_count": 18,
     "metadata": {},
     "output_type": "execute_result"
    }
   ],
   "source": [
    "tabu_div_results3"
   ]
  },
  {
   "cell_type": "code",
   "execution_count": null,
   "metadata": {},
   "outputs": [],
   "source": [
    "Answer the following Questions: \n",
    "\n",
    "1.  Q: In this specific case, what is the neighborhood of an element of the research space?\n",
    "\n",
    "    A: The neighborhood is the set of combination obtained by a swap of two elements of the combination.\n",
    "\n",
    "\n",
    "2.  Q: In terms of $n$ (number of locations/facilities), what is the size of the neighborhood? (i.e., how many neighbors does each         permuation have?)\n",
    "\n",
    "    A: The size of the neighborhood can be obtained by counting the number of possible swap divided by two. So (n-1)*n/2\n"
   ]
  }
 ],
 "metadata": {
  "kernelspec": {
   "display_name": "Python 3 (ipykernel)",
   "language": "python",
   "name": "python3"
  },
  "language_info": {
   "codemirror_mode": {
    "name": "ipython",
    "version": 2
   },
   "file_extension": ".py",
   "mimetype": "text/x-python",
   "name": "python",
   "nbconvert_exporter": "python",
   "pygments_lexer": "ipython2",
   "version": "2.7.18"
  }
 },
 "nbformat": 4,
 "nbformat_minor": 5
}
