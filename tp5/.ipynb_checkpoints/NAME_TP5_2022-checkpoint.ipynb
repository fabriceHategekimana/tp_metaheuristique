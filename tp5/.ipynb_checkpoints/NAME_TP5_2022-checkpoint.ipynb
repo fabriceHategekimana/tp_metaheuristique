{
 "cells": [
  {
   "cell_type": "markdown",
   "metadata": {},
   "source": [
    "## TP5 - Name"
   ]
  },
  {
   "cell_type": "code",
   "execution_count": null,
   "metadata": {},
   "outputs": [],
   "source": [
    "## imports\n",
    "import csv\n",
    "import numpy as np"
   ]
  },
  {
   "cell_type": "markdown",
   "metadata": {},
   "source": [
    "### PART 1 - Monday, November 14, 2022"
   ]
  },
  {
   "cell_type": "code",
   "execution_count": null,
   "metadata": {},
   "outputs": [],
   "source": [
    "with open('X.dat', newline='') as f:\n",
    "    reader = csv.reader(f, quoting=csv.QUOTE_NONNUMERIC)\n",
    "    X_dat = list(reader)\n",
    "with open('Y.dat', newline='') as f:\n",
    "    reader = csv.reader(f, quoting=csv.QUOTE_NONNUMERIC)\n",
    "    Y_dat = list(reader)\n",
    "\n",
    "## 2D array of shape (200, 400), each row (image) contains the 400 grey values of each image\n",
    "X = np.array(X_dat).reshape(200, 400)\n",
    "## list of 200 labels, label for each image, 1 if image is '2' and 0 if image is '3'\n",
    "y_k = [y[0] for y in Y_dat]"
   ]
  },
  {
   "cell_type": "code",
   "execution_count": null,
   "metadata": {},
   "outputs": [],
   "source": [
    "## NOTE : HELPER FUNCTION, IF NEEDED\n",
    "# Checks if all elements of a list are equal\n",
    "def checkEqual(lst):\n",
    "    '''\n",
    "    checks if all elements of a list are equal\n",
    "    (by checking if the count of the first element is equal to the list length)\n",
    "\n",
    "    Parameters:\n",
    "    -----------\n",
    "    lst : list of x elements\n",
    "\n",
    "    Returns:\n",
    "    --------\n",
    "    True if all x elements of the list are equal, and False otherwise\n",
    "    '''\n",
    "    return lst.count(lst[0]) == len(lst)"
   ]
  },
  {
   "cell_type": "code",
   "execution_count": null,
   "metadata": {},
   "outputs": [],
   "source": [
    "# Sigmoidal function\n",
    "def fun_sigmoid(x):\n",
    "    # TODO\n",
    "    '''\n",
    "    compute sigmoid of value x\n",
    "\n",
    "    Parameters:\n",
    "    -----------\n",
    "    x : scalar value\n",
    "\n",
    "    Returns:\n",
    "    --------\n",
    "    sigmoid(x)\n",
    "    '''\n",
    "\n",
    "\n",
    "# Calculate h-w1-w2\n",
    "def h12(pso, X):\n",
    "    # TODO\n",
    "    '''\n",
    "    calculate state of activation of the output layer of neurons (list of 200 values, a value for each image)\n",
    "\n",
    "    Parameters:\n",
    "    -----------\n",
    "    pso : position vector of one particle\n",
    "    X : 2D array of shape (200, 400), each row (image) contains the 400 grey values of each image\n",
    "\n",
    "    Returns:\n",
    "    --------\n",
    "    h : list of 200 values representing the state of activation of the output layer of neurons\n",
    "    '''\n",
    "    # w2 matrix, (1, 26) of last 26 elements of pso\n",
    "    # TODO\n",
    "\n",
    "    # w1 matrix (25, 401) of first 25*401 elements of pso\n",
    "    # TODO\n",
    "\n",
    "    # results' list containing h value for each image\n",
    "    results = []\n",
    "    # for every image x\n",
    "    for x in X:\n",
    "        # get image (& copy !!)\n",
    "        # TODO\n",
    "        # add 1 at 0-position\n",
    "        # TODO\n",
    "        # reshape\n",
    "        # TODO\n",
    "        # calculate c = matrix multiplication of weight matrix 1 and image vector(with 1 at position 0)\n",
    "        # TODO\n",
    "        # apply sigmoidal function on elements of c\n",
    "        # TODO\n",
    "        # add 1 at 0-position\n",
    "        # TODO\n",
    "        # reshape\n",
    "        # TODO\n",
    "        # calculate matrix multiplication of weight matrix 2 and vector z(with 1 at position 0), answer is scalar\n",
    "        # TODO\n",
    "        # apply sigmoidal fucntion on answer\n",
    "        # TODO\n",
    "        # results, append all h12 for all images\n",
    "        # TODO\n",
    "\n",
    "    return results\n",
    "\n",
    "\n",
    "# Calculate overall fitness J\n",
    "def calculate_J(h, y_k):\n",
    "    # TODO\n",
    "    '''\n",
    "    calculate overall fitness J (equation #5 in TP PDF)\n",
    "\n",
    "    Parameters:\n",
    "    -----------\n",
    "    h : list of 200 values representing the state of activation of the output layer of neurons\n",
    "    y_k : list of 200 labels '1' or '0', for each image\n",
    "\n",
    "    Returns:\n",
    "    --------\n",
    "    fitness_J : overall fitness, mean of all J for each image\n",
    "    '''\n",
    "\n",
    "# prediction accuracy of images\n",
    "def pred_acc(h, X, y_k):\n",
    "    # TODO\n",
    "    '''\n",
    "    calculate the prediction accuracy (%) by comparing prediction & true labels\n",
    "    y_p (predicted label) = 1 if h>=0.5 & 0 otherwise\n",
    "\n",
    "    Parameters:\n",
    "    -----------\n",
    "    h : list of 200 values representing the state of activation of the output layer of neurons (to be used for best h12)\n",
    "    X : 2D array of shape (200, 400), each row (image) contains the 400 grey values of each image\n",
    "    y_k : list of 200 labels '1' or '0', for each image\n",
    "\n",
    "    Returns:\n",
    "    --------\n",
    "    acc : prediction accuracy\n",
    "    '''\n",
    "\n",
    "    # get predicted labels\n",
    "    # TODO\n",
    "    # get prediction accuracy (%)\n",
    "    # TODO\n"
   ]
  },
  {
   "cell_type": "code",
   "execution_count": null,
   "metadata": {},
   "outputs": [],
   "source": [
    "# Algorithm, and training the network\n",
    "def pso_NN(X, y_k, N, vmax_coeff):\n",
    "    # TODO\n",
    "    '''\n",
    "    perfom PSO algorithm with NN training\n",
    "\n",
    "    Parameters:\n",
    "    -----------\n",
    "    X : 2D array of shape (200, 400), each row (image) contains the 400 grey values of each image\n",
    "    y_k : list of 200 labels '1' or '0', for each image\n",
    "    N : number of particles\n",
    "    vmax_coeff : velocity cutoff coefficient (% of coordinates range, for eg: vmax_coeff=0.1 means vmax=0.1*(xmax_coordinate-xmin_coordinate))\n",
    "\n",
    "    Returns:\n",
    "    --------\n",
    "    J_g : global best fitness\n",
    "    b_g : global best position\n",
    "    h_g : global best state activation of output neurons (needed later for prediction)\n",
    "    J_global : list of all global best positions (for each iteration, needed to plot later on)\n",
    "    '''\n",
    "    ## Fixed Parameters\n",
    "    # cognitive & social parameters\n",
    "    c1 = c2 = 2\n",
    "    # inertia constant\n",
    "    w = 0.9\n",
    "    # number of coefficients 'n' of weight matrices 1 & 2, combined (go back to h12 function for a reminder if needed)\n",
    "    n = ?\n",
    "    \n",
    "    ## Variate Parameters\n",
    "    # coordinates' range\n",
    "    c_range = [-1, 1] # or [-0.5, 0.5]\n",
    "    # velocity threshold vmax = vmax_coeff*(c_max - c_min)\n",
    "    # TODO\n",
    "\n",
    "    ## NOTE : STOPPING CONDITION\n",
    "    # choose one of these two stopping conditions: \n",
    "    # 1. number of iterations, tmax=?\n",
    "    # 2. last _ fitness values are equal (or not improving?)\n",
    "    \n",
    "    ## Initialize\n",
    "    # initialize 's' : np array of size (N=number of particles, n=number of coefficients of weight matrices 1&2) with values from coefficients ranging in c_range\n",
    "    # TODO\n",
    "    # initialize 'v' : np array of size(N, n) of velocity vectors of values 0\n",
    "    # TODO\n",
    "    \n",
    "    ## Compute Initial J\n",
    "    # Compute h12 for all pso in s\n",
    "    # TODO\n",
    "    # compute and save J for all particles\n",
    "    # TODO\n",
    "    # get minimum J, and idx (index of minimum)\n",
    "    # TODO\n",
    "    # set local & global J (local J is best J for each particle, global J is best overall J)\n",
    "    # TODO\n",
    "    # set local & global positions (local position is best b for each particle, global position is best overall b)\n",
    "    # TODO (don't forget to copy if needed !)\n",
    "    # save minimum h12 \n",
    "    # TODO\n",
    "    \n",
    "    ## Run algorithm\n",
    "\n",
    "    # STOPPING CONDITION\n",
    "    # TODO\n",
    "    while():\n",
    "\n",
    "        ## For every particle position in s:\n",
    "            # r1, r2 random numbers between 0 & 1\n",
    "            # Update v\n",
    "            # Check velocity if crossing upper/lower threshold\n",
    "            # Update position\n",
    "            # Check boundary condition & decide what to do if a particle crosses a boundary, some options are:\n",
    "                # set crossing position to the boundary position\n",
    "                # reflect crossing position\n",
    "                # bounce-back crossing position\n",
    "            # Calculate new J (by first calculating h12)\n",
    "            # Check if found new best fitness, set to local fitness\n",
    "        # Get minimum of all new best J, if best is < global J, set to global J\n",
    "        # save best h12\n",
    "        # Update if Stopping Condition #2\n",
    "\n",
    "    return ###"
   ]
  },
  {
   "cell_type": "code",
   "execution_count": null,
   "metadata": {},
   "outputs": [],
   "source": [
    "# Test run pso_NN function for N=10 & vmax_coeff=0.1, and get prediction accuracy\n",
    "# TODO"
   ]
  },
  {
   "cell_type": "markdown",
   "metadata": {},
   "source": [
    "### PART 2 - Monday, November 21, 2022"
   ]
  },
  {
   "cell_type": "code",
   "execution_count": null,
   "metadata": {},
   "outputs": [],
   "source": [
    "# Run algorithm for range of N, & plot best_fitness vs N (set vmax_coeff=0.1)\n",
    "N = [10, 20, 30, 50]"
   ]
  },
  {
   "cell_type": "markdown",
   "metadata": {},
   "source": [
    "### How does the number of particles affect the result of the PSO algorithm?"
   ]
  },
  {
   "cell_type": "code",
   "execution_count": null,
   "metadata": {},
   "outputs": [],
   "source": [
    "# Run algorithm for range of vmax_coeff, the cutoff velocity coefficient (choose N according to experiment above)\n",
    "vmax_coeff = [0, 0.1, 0.2, 0.3]"
   ]
  },
  {
   "cell_type": "markdown",
   "metadata": {},
   "source": [
    "### How does the velocity cut-off $v_{max}$ affect the result of the PSO algorithm?"
   ]
  },
  {
   "cell_type": "code",
   "execution_count": 28,
   "metadata": {},
   "outputs": [],
   "source": [
    "# Run algorithm 10 times, noting the prediction accuracy (or error) for each run \n",
    "# TODO"
   ]
  },
  {
   "cell_type": "code",
   "execution_count": null,
   "metadata": {},
   "outputs": [],
   "source": [
    "# Plot the best_fitness of each run vs. the number of iterations it took (in case of stop condition #2)\n",
    "# TODO"
   ]
  },
  {
   "cell_type": "code",
   "execution_count": 29,
   "metadata": {},
   "outputs": [],
   "source": [
    "# For one of the 10 runs (choose the one with the best fitness), plot J(w1, w2) as a function of the iteration number\n",
    "# TODO"
   ]
  },
  {
   "cell_type": "markdown",
   "metadata": {},
   "source": [
    "### Comment on your results"
   ]
  },
  {
   "cell_type": "markdown",
   "metadata": {},
   "source": [
    "Answer the following Questions: \n",
    "\n",
    "1.  Q: What is the Search Space of our problem?\n",
    "\n",
    "    A: \n",
    "\n",
    "\n",
    "2.  Q: Explain the coefficients c1 & c2\n",
    "\n",
    "    A:\n",
    "    \n",
    "\n",
    "3.  Q: How is PSO similar to Ant Algorithm?\n",
    "\n",
    "    A:\n"
   ]
  },
  {
   "cell_type": "markdown",
   "metadata": {},
   "source": []
  }
 ],
 "metadata": {
  "kernelspec": {
   "display_name": "Python 3",
   "language": "python",
   "name": "mon_noyau_python3"
  },
  "language_info": {
   "codemirror_mode": {
    "name": "ipython",
    "version": 3
   },
   "file_extension": ".py",
   "mimetype": "text/x-python",
   "name": "python",
   "nbconvert_exporter": "python",
   "pygments_lexer": "ipython3",
   "version": "3.10.12"
  },
  "vscode": {
   "interpreter": {
    "hash": "31f2aee4e71d21fbe5cf8b01ff0e069b9275f58929596ceb00d14d90e3e16cd6"
   }
  }
 },
 "nbformat": 4,
 "nbformat_minor": 2
}
