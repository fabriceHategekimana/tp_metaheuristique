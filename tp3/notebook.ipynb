{
  "cells": [
    {
      "cell_type": "markdown",
      "metadata": {},
      "source": [
        "# Series 3: Simulated Anneaaling for the traveling salesman problem\n",
        "\n",
        "## Introduction\n",
        "\n",
        "### Algorithms\n",
        "\n",
        "I implemented both solutions in these files:\n",
        "\n",
        "- src/SA.py (for simulated annealing)\n",
        "- src/greedy.py (for the greedy method)\n",
        "\n",
        "I also implemented other help files for organization and analysis:\n",
        "\n",
        "- configuration_generator.py\n",
        "- module.py\n",
        "- plot.py\n",
        "\n",
        "### Datas\n",
        "\n",
        "I used these datasheets:\n",
        "\n",
        "- src/data/simple_circle.dat\n",
        "- src/data/circle.dat\n",
        "- src/data/cities_tp3.dat\n",
        "- src/data/cities2_tp3.dat\n",
        "\n",
        "\n",
        "## Work to do\n",
        "\n",
        "## 4 cities in circle\n",
        "\n",
        "I created a configuration where the cities are in the perimeter of a circle of radius 1.\n",
        "I first started by doing the algorithm with `src/data/simple_circle.dat`. \n",
        "There are juste for cities in specific location ((0, 1), (1, 0), (0, -1), (-1 0)).\n"
      ]
    },
    {
      "cell_type": "code",
      "metadata": {},
      "source": [
        "from src.SA import simulated_annealing, read_city\n",
        "from src.plot import plot_path\n",
        "\n",
        "_ , cities = read_city(\"src/data/simple_circle.dat\")\n",
        "path, length = simulated_annealing(\"src/data/simple_circle.dat\") \n",
        "\n",
        "length\n",
        "\n",
        "plot_path(path, cities)"
      ],
      "execution_count": null,
      "outputs": []
    },
    {
      "cell_type": "markdown",
      "metadata": {},
      "source": [
        "As expected, we got a result where the solution follow the predicted pattern (The path will go arround the the cities that compose the circle).\n",
        "\n",
        "-----\n",
        "\n",
        "### 8 Cities in circle\n",
        "\n",
        "I tried it with a configuration containing 8 cities `src/data/circle.dat` (this time, four cities are in the diagonals)."
      ]
    },
    {
      "cell_type": "code",
      "metadata": {},
      "source": [
        "from src.SA import simulated_annealing, read_city\n",
        "from src.plot import plot_path\n",
        "\n",
        "_ , cities = read_city(\"src/data/circle.dat\")\n",
        "path, length = simulated_annealing(\"src/data/circle.dat\") \n",
        "\n",
        "length\n",
        "\n",
        "plot_path(path, cities)"
      ],
      "execution_count": null,
      "outputs": []
    },
    {
      "cell_type": "markdown",
      "metadata": {},
      "source": [
        "---\n",
        "\n",
        "I tried to run 10 times the SA algorithm. with `cities_tp3` one and `cities2_tp3`.\n",
        "But it took longer than I thought to do so (It take more that 12 hours and since I started sunday, it isn't finished yet).\n",
        "\n",
        "I first implemented a function that measure the time to compute each algorithm (it's the `src/timer.dat` file)"
      ]
    },
    {
      "cell_type": "code",
      "metadata": {},
      "source": [
        "from src.SA import simulated_annealing, read_city\n",
        "from src.plot import plot_path\n",
        "from src.timer import timer\n",
        "\n",
        "timed_SA = timer(simulated_annealing)\n",
        "\n",
        "SA_cities = [timed_SA(\"src/data/cities_tp3.dat\") for i in range(10)]\n",
        "SA_cities2 = [timed_SA(\"src/data/cities_tp3.dat\") for i in range(10)]\n",
        "\n",
        "cities_path = [c[0] for c in SA_cities]\n",
        "cities_length = [c[1] for c in SA_cities]\n",
        "cities2_path = [c[0] for c in SA_cities2]\n",
        "cities2_length = [c[1] for c in SA_cities2]"
      ],
      "execution_count": null,
      "outputs": []
    },
    {
      "cell_type": "markdown",
      "metadata": {},
      "source": [
        "I also tried to run one time the greedy algorithm for `cities_tp3`. I started this friday since I knew it will take some times. But unfortunately, it also take hours to finish (not finished yet).\n",
        "\n",
        "------\n",
        "\n",
        "## Working with a smaller set\n",
        "\n",
        "I decided to work with a randomly generated cities of 10 members."
      ]
    },
    {
      "cell_type": "code",
      "metadata": {},
      "source": [
        "from src.SA import simulated_annealing, read_city\n",
        "from src.plot import plot_path\n",
        "from src.configuration_generator import generate_configuration\n",
        "from src.timer import timer\n",
        "import pandas as pd\n",
        "\n",
        "timed_SA = timer(simulated_annealing)\n",
        "\n",
        "generate_configuration(\"Exemple\", 10)\n",
        "SA_exemple = [timed_SA(\"Exemple.dat\") for i in range(10)]\n",
        "\n",
        "cities_path = [c[0] for c in SA_exemple]\n",
        "cities_length = [c[1] for c in SA_exemple]\n",
        "cities_time = [c[1] for c in SA_exemple]\n",
        "\n",
        "df = pandas.pd([cities_path, cities_length, cities_time], columns=[\"path\", \"length\", \"time\"])\n",
        "df.to_csv(\"csv/random_cities\")"
      ],
      "execution_count": null,
      "outputs": []
    },
    {
      "cell_type": "markdown",
      "metadata": {},
      "source": [
        "## Practical consideration\n",
        "\n",
        "I didn't have the time to plot some graphs since the computation took too long.\n"
      ]
    }
  ],
  "metadata": {
    "kernelspec": {
      "name": "python3",
      "language": "python",
      "display_name": "Python 3 (ipykernel)"
    }
  },
  "nbformat": 4,
  "nbformat_minor": 4
}