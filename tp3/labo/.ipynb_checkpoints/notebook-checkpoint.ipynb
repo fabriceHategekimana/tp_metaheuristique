{
 "cells": [
  {
   "cell_type": "markdown",
   "metadata": {},
   "source": [
    "# Title\n",
    "\n",
    "## Code block\n",
    "\n",
    "```python\n",
    "\tprint(\"hello world\")\n",
    "```\n",
    "\n",
    "## Some formula\n",
    "\n",
    "$$ x \\in {1, 2, 3} $$\n"
   ]
  }
 ],
 "metadata": {
  "kernelspec": {
   "display_name": "Python 3 (ipykernel)",
   "language": "python",
   "name": "python3"
  },
  "language_info": {
   "codemirror_mode": {
    "name": "ipython",
    "version": 2
   },
   "file_extension": ".py",
   "mimetype": "text/x-python",
   "name": "python",
   "nbconvert_exporter": "python",
   "pygments_lexer": "ipython2",
   "version": "2.7.18"
  }
 },
 "nbformat": 4,
 "nbformat_minor": 4
}
