{
  "cells": [
    {
      "cell_type": "raw",
      "metadata": {},
      "source": [
        "---\n",
        "title: Genetic algorithms and function minimization\n",
        "author: Fabrice Hategekimana\n",
        "---"
      ],
      "id": "c4190291"
    },
    {
      "cell_type": "markdown",
      "metadata": {},
      "source": [
        "## GA algorithm\n",
        "\n",
        "Experiment GA algorithm for all combinations of the following cases:\n",
        "\n",
        "\t- p_m = 0.01 or p_m = 0.1\n",
        "\t- no crossover or crossover with p_c = 0.6 (4 cases in total)\n",
        "\n",
        "For each of the 4 cases, run with/out keeping track of best -> (8 cases in total)\n",
        "\n",
        "In all cases: N=100, k=20\n"
      ],
      "id": "4c286f66"
    },
    {
      "cell_type": "code",
      "metadata": {},
      "source": [
        "from app import GA, fxy\n",
        "from itertools import product\n",
        "\n",
        "# population size\n",
        "N = 100\n",
        "# individual bit string\n",
        "k = 20\n",
        "### Run GA for all above cases 10 times\n",
        "\n",
        "p_ms = [0.01, 0.1]\n",
        "crossovers = [False, True]\n",
        "\n",
        "cases = list(product(p_m, crossover))\n",
        "\n",
        "res = GA(N=N, k=k, p_c=0.6, p_m=0, evals=100, crossOver=True, track_best=True, f=fxy)\n",
        "\n",
        "df, g_fitness, fit_best, probs, probs1, probs2p5 = res\n",
        "\n",
        "df"
      ],
      "id": "e8e5b295",
      "execution_count": null,
      "outputs": []
    },
    {
      "cell_type": "markdown",
      "metadata": {},
      "source": [
        "## Statistics: \n",
        "Get best, mean, standard deviation for each of the following 4 cases (no track of best) at 10^3, 10^4, & 10^5 fitness evaluations:\n",
        "\n",
        "1. p_m = 0.01 & no crossover  \n",
        "2. p_m = 0.01 & p_c = 0.6  \n",
        "3. p_m = 0.1 & no crossover  \n",
        "4. p_m = 0.1 & p_c = 0.6  \n",
        "\n",
        "Print the statistics nicely (you can use pandas dataframe for eg.)\n",
        "Results are 4 tables of 9 values each\n",
        "\n",
        "### Comment on your results (effect of mutation/crossover)\n",
        "\n",
        "Plot the cumulative empirical probabilities (probabilities vs. fitness evaluations) for all 4 cases for:\n",
        "\n",
        "1. optimum\n",
        "2. 1% away from optimum\n",
        "3. 2.5% away from optimum\n",
        "\n",
        "All 3 cases are plotted with/out keeping track of best\n",
        "\n",
        "We expect 6 figures at the end, with each figure having all 4 combinations of crossover & mutation on the same plot\n",
        "\n",
        "### Comment on your results (observation, difference between keeping track or not...)\n",
        "\n",
        "\n",
        "#### Answer the following Questions: \n",
        "\n",
        "1. Q: What is the Search Space of our problem?\n",
        "\n",
        "   A: The search space of our problem is the set of couple (x, y) contained in the interval x,y \\in [10, 1000].\n",
        "\n",
        "\n",
        "2. Q: What are the roles of Selection, Crossover, & Mutation processes?\n",
        "\n",
        "   A: The Selection play the role of optimizing the fitness since it select the next generation according to the best fitness. But with the selection only, we dont have the power to explore for more diversity. The Crossover and Mutation processes add some variance to the set of individuals but keep in the same time the probability of the new individuals generated to stay in the subset of the best elements (from the selection step).\n",
        "    \n",
        "\n",
        "3. Q: What does each of the 3 processes Selection, Crossover & Mutation favor : exploration/diversification or exploitation/intensification?\n",
        "\n",
        "   A: The Selection is there for the exploitation but the Crossover and mutation are there for the diversification (exploration)."
      ],
      "id": "5bd1657d"
    }
  ],
  "metadata": {
    "kernelspec": {
      "name": "mon_noyau_python3",
      "language": "python",
      "display_name": "Python 3"
    }
  },
  "nbformat": 4,
  "nbformat_minor": 5
}