{
 "cells": [
  {
   "cell_type": "markdown",
   "metadata": {},
   "source": [
    "## TP6 - Name"
   ]
  },
  {
   "cell_type": "code",
   "execution_count": null,
   "metadata": {},
   "outputs": [],
   "source": [
    "## imports"
   ]
  },
  {
   "cell_type": "markdown",
   "metadata": {},
   "source": [
    "### PART 1 - Monday, November 28, 2022"
   ]
  },
  {
   "cell_type": "code",
   "execution_count": null,
   "metadata": {},
   "outputs": [],
   "source": [
    "# function f(x, y)\n",
    "def f(x,y):\n",
    "    ## TODO\n",
    "    '''\n",
    "    returns result of function f(x, y) which we are trying to minimize\n",
    "\n",
    "    Parameters:\n",
    "    -----------\n",
    "    x : x-coordinate of point (can be an array of x-coordinates)\n",
    "    y: y-coordinate of point (can be an array of y-coordinates)\n",
    "\n",
    "    Returns:\n",
    "    --------\n",
    "    result f(x, y) (can be an array of function evaluations)\n",
    "    '''"
   ]
  },
  {
   "cell_type": "markdown",
   "metadata": {},
   "source": [
    "##### Visualize the function to minimize in a 3D space to get an idea on how difficult is to find its global minimum, and localize its global minimum."
   ]
  },
  {
   "cell_type": "code",
   "execution_count": null,
   "metadata": {},
   "outputs": [],
   "source": [
    "# Plot 3D-plot of f(x, y), with x=[10, 1000] & y=[10, 1000]\n"
   ]
  },
  {
   "cell_type": "code",
   "execution_count": null,
   "metadata": {},
   "outputs": [],
   "source": [
    "# Get the optimum point: min of f(x, y) (and save)\n",
    "\n",
    "\n",
    "# save the point 1% away from minimum \n",
    "\n",
    "\n",
    "# save the point 2.5% away from the minimum\n",
    "\n"
   ]
  },
  {
   "cell_type": "code",
   "execution_count": null,
   "metadata": {},
   "outputs": [],
   "source": [
    "# map function from binary to [10, 1000]\n",
    "def map_xy(xy, l, a, b):\n",
    "    ## TODO\n",
    "    '''\n",
    "    maps binary string to natural number in range of natural numbers [a, b]\n",
    "\n",
    "    Parameters:\n",
    "    -----------\n",
    "    xy : binary string, x or y coordinate to be mapped to a natural number in range [a, b]\n",
    "    l : length of string \n",
    "    a : lower range limit\n",
    "    b : upper range limit\n",
    "\n",
    "    Returns:\n",
    "    --------\n",
    "    integer value in the range [a, b]\n",
    "    '''"
   ]
  },
  {
   "cell_type": "code",
   "execution_count": null,
   "metadata": {},
   "outputs": [],
   "source": [
    "def generate_gen(N, k):\n",
    "    ## TODO\n",
    "    '''\n",
    "    generates N populations of k-bits each \n",
    "    (first k/2 bits are x binary coordinates, and second k/2 bits are y-binary coordinates)\n",
    "\n",
    "    Parameters:\n",
    "    -----------\n",
    "    N : population size\n",
    "    k: binary x-y coordinate size\n",
    "\n",
    "    Returns:\n",
    "    --------\n",
    "    gen: generation of N individuals of k-bits each\n",
    "    '''\n",
    "\n",
    "def calculate_fitness(gen):\n",
    "    ## TODO\n",
    "    '''\n",
    "    calculates the fitness of generation\n",
    "\n",
    "    Parameters:\n",
    "    -----------\n",
    "    gen : generation of N individuals of k-bits each\n",
    "    k: binary x-y coordinate size\n",
    "\n",
    "    Returns:\n",
    "    --------\n",
    "    g_fitness : fitness of generation (fitness for each individual in the N population)\n",
    "    '''\n",
    "    ## map coordinates\n",
    "\n",
    "    ## get fitness"
   ]
  },
  {
   "cell_type": "code",
   "execution_count": null,
   "metadata": {},
   "outputs": [],
   "source": [
    "def select(gen, N):\n",
    "    ## TODO\n",
    "    '''\n",
    "    performs 5-Tournament Selection on generation\n",
    "    (choose 5 random individuals, return the best one in terms of fitness, repeat process N times)\n",
    "\n",
    "    Parameters:\n",
    "    -----------\n",
    "    gen : generation of N individuals of k-bits each\n",
    "    N: population size\n",
    "\n",
    "    Returns:\n",
    "    --------\n",
    "    gen: generation gen after selection process\n",
    "\n",
    "    NOTE: remember to repeat selection process N times to keep a constant population size\n",
    "    '''\n",
    "    \n",
    "\n",
    "def crossover(gen, k, p_c):\n",
    "    ## TODO\n",
    "    '''\n",
    "    performs One-Point Mid-Break Crossover \n",
    "    (choose one point, in the middle of the bit string, to perform Crossover, repeat N/2 times)\n",
    "\n",
    "    Parameters:\n",
    "    -----------\n",
    "    gen : generation of N individuals of k-bits each\n",
    "    k : size of individual (length of bit string)\n",
    "    p_c : probability of crossover\n",
    "\n",
    "    Returns:\n",
    "    --------\n",
    "    gen: generation gen after crossover process\n",
    "\n",
    "    NOTE: remember to repeat selection process N/2 times to keep a constant population size\n",
    "    '''\n",
    "\n",
    "    ## pair individuals, decide to perform crossover or not depending on probability c_p\n",
    "\n",
    "def mutation(gen, m_p):\n",
    "    ## TODO\n",
    "    '''\n",
    "    performs mutation to each individual in generation gen\n",
    "    (with a probability m_p for every individual, decide to swap every element of an individual 0->1 or 1->0)\n",
    "\n",
    "    Parameters:\n",
    "    -----------\n",
    "    gen : generation of N individuals of k-bits each\n",
    "    p_m : probability of mutation\n",
    "\n",
    "    Returns:\n",
    "    --------\n",
    "    gen: generation gen after mutation process\n",
    "    '''"
   ]
  },
  {
   "cell_type": "code",
   "execution_count": null,
   "metadata": {},
   "outputs": [],
   "source": [
    "## Test selection, crossover, & mutation functions with small N=5 & k=10"
   ]
  },
  {
   "cell_type": "markdown",
   "metadata": {},
   "source": [
    "### PART 2 - Monday, December 5, 2022"
   ]
  },
  {
   "cell_type": "code",
   "execution_count": null,
   "metadata": {},
   "outputs": [],
   "source": [
    "def GA(N, k, p_c, p_m, evals, crossOver=True, track_best=True):\n",
    "    ## TODO\n",
    "    '''\n",
    "    performs Genetic Algorithm \n",
    "    (choose number of iterations depending on number of evaluations needed where: \n",
    "    num_evaluations = population_size * num_iterations)\n",
    "\n",
    "    Parameters:\n",
    "    -----------\n",
    "    N : population size\n",
    "    k : size of individual (length of bit string)\n",
    "    p_c : probability of crossover\n",
    "    p_m : probability of mutation\n",
    "    evals : number of evaluations\n",
    "    crossOver : =True to perform crossover, & False otherwise\n",
    "    track_best: =True to keep track of best seen so far for each individual, & False otherwise\n",
    "\n",
    "    Returns:\n",
    "    --------\n",
    "    gen: generation gen after number of evaluations\n",
    "    g_fitness : generations fitness (N fitnesses)\n",
    "    fit_best : best so far for each individual (list of zeros in case track_best=False)\n",
    "    probs : list of empirical probabilities (relative frequencies), of individuals reaching optimum, at each iteration\n",
    "    probs1 : list of empirical probabilities (relative frequencies), of individuals at most 1% away from optimum, at each iteration\n",
    "    probs2p5 : list of empirical probabilities (relative frequencies), of individuals at most 2.5% away from optimum, at each iteration\n",
    "    '''\n",
    "    # generate a population of N individuals, of k-bit strings each\n",
    "    # TODO\n",
    "\n",
    "    ## fit_best : to update in case of track_best=True\n",
    "    fit_best = [0]*N\n",
    "    # list of empirical probabilities (relative frequencies), \n",
    "    # of individuals reaching optimum, at each iteration\n",
    "    probs = []\n",
    "    # list of empirical probabilities (relative frequencies), \n",
    "    # of individuals reaching at most 1% away from optimum, at each iteration\n",
    "    probs1 = []\n",
    "    # list of empirical probabilities (relative frequencies), \n",
    "    # of individuals reaching at most 2.5% away from optimum, at each iteration\n",
    "    probs2p5 = []\n",
    "    \n",
    "    ## number of iterations can be calculated from: num_evaluations = population_size * num_iterations\n",
    "    # TODO\n",
    "    iterations  = ??\n",
    "    for _ in range(iterations):\n",
    "        ## selection \n",
    "        # TODO\n",
    "        ## crossover (if True)\n",
    "        # TODO\n",
    "        ## mutation\n",
    "        # TODO\n",
    "        ## get fitness\n",
    "        # TODO\n",
    "\n",
    "        ## append empirical probabilities depending on keeping track of best or not\n",
    "        # TODO\n",
    "    return gen, g_fitness, fit_best, probs, probs1, probs2p5"
   ]
  },
  {
   "cell_type": "markdown",
   "metadata": {},
   "source": [
    "Experiment GA algorithm for all combinations of the following cases:\n",
    "\n",
    "1. p_m = 0.01 or p_m = 0.1\n",
    "2. no crossover or crossover with p_c = 0.6\n",
    "(4 cases in total)\n",
    "\n",
    "For each of the 4 cases, run with/out keeping track of best\n",
    "-> (8 cases in total)\n",
    "\n",
    "In all cases: N=100, k=20"
   ]
  },
  {
   "cell_type": "code",
   "execution_count": 19,
   "metadata": {},
   "outputs": [],
   "source": [
    "# population size\n",
    "N = 100\n",
    "# individual bit string\n",
    "k = 20\n",
    "### Run GA for all above cases 10 times\n"
   ]
  },
  {
   "cell_type": "markdown",
   "metadata": {},
   "source": [
    "Statistics: \n",
    "Get best, mean, standard deviation for each of the following 4 cases (no track of best) at 10^3, 10^4, & 10^5 fitness evaluations:\n",
    "1. p_m = 0.01 & no crossover\n",
    "2. p_m = 0.01 & p_c = 0.6\n",
    "3. p_m = 0.1 & no crossover\n",
    "4. p_m = 0.1 & p_c = 0.6\n",
    "\n",
    "Print the statistics nicely (you can use pandas dataframe for eg.)\n",
    "Results are 4 tables of 9 values each"
   ]
  },
  {
   "cell_type": "code",
   "execution_count": null,
   "metadata": {},
   "outputs": [],
   "source": [
    "## Statistics "
   ]
  },
  {
   "cell_type": "markdown",
   "metadata": {},
   "source": [
    "### Comment on your results (effect of mutation/crossover)"
   ]
  },
  {
   "cell_type": "markdown",
   "metadata": {},
   "source": [
    "Plot the cumulative empirical probabilities (probabilities vs. fitness evaluations) for all 4 cases for:\n",
    "1. optimum\n",
    "2. 1% away from optimum\n",
    "3. 2.5% away from optimum\n",
    "All 3 cases are plotted with/out keeping track of best\n",
    "\n",
    "We expect 6 figures at the end, with each figure having all 4 combinations of crossover & mutation on the same plot"
   ]
  },
  {
   "cell_type": "code",
   "execution_count": null,
   "metadata": {},
   "outputs": [],
   "source": [
    "## Cumulative empirical probabilities "
   ]
  },
  {
   "cell_type": "markdown",
   "metadata": {},
   "source": [
    "### Comment on your results (observation, difference between keeping track or not...)"
   ]
  },
  {
   "cell_type": "markdown",
   "metadata": {},
   "source": [
    "Answer the following Questions: \n",
    "\n",
    "1.  Q: What is the Search Space of our problem?\n",
    "\n",
    "    A: \n",
    "\n",
    "\n",
    "2.  Q: What are the roles of Selection, Crossover, & Mutation processes?\n",
    "\n",
    "    A:\n",
    "    \n",
    "\n",
    "3.  Q: What does each of the 3 processes Selection, Crossover & Mutation favor : exploration/diversification or exploitation/intensification?\n",
    "\n",
    "    A:\n"
   ]
  },
  {
   "cell_type": "markdown",
   "metadata": {},
   "source": []
  }
 ],
 "metadata": {
  "kernelspec": {
   "display_name": "Python 3",
   "language": "python",
   "name": "mon_noyau_python3"
  },
  "language_info": {
   "codemirror_mode": {
    "name": "ipython",
    "version": 3
   },
   "file_extension": ".py",
   "mimetype": "text/x-python",
   "name": "python",
   "nbconvert_exporter": "python",
   "pygments_lexer": "ipython3",
   "version": "3.10.12"
  },
  "vscode": {
   "interpreter": {
    "hash": "31f2aee4e71d21fbe5cf8b01ff0e069b9275f58929596ceb00d14d90e3e16cd6"
   }
  }
 },
 "nbformat": 4,
 "nbformat_minor": 2
}
